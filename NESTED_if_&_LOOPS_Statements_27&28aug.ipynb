{
  "nbformat": 4,
  "nbformat_minor": 0,
  "metadata": {
    "colab": {
      "provenance": []
    },
    "kernelspec": {
      "name": "python3",
      "display_name": "Python 3"
    },
    "language_info": {
      "name": "python"
    }
  },
  "cells": [
    {
      "cell_type": "markdown",
      "source": [
        "Nested if"
      ],
      "metadata": {
        "id": "qclqJlB688I3"
      }
    },
    {
      "cell_type": "markdown",
      "source": [
        "Take a number as input from the user and check if the number is greater than 10 or less than 10.\n",
        "\n",
        "In case the number is greater than 10, check if it is greater than 20 also or not"
      ],
      "metadata": {
        "id": "zxYDjAgN_Qwu"
      }
    },
    {
      "cell_type": "code",
      "source": [
        "x=int(input(\"enter you number: \"))\n",
        "\n",
        "if x>10:\n",
        "  if x>20:\n",
        "    print('The number',x,'is greater than 20')\n",
        "  else:\n",
        "    print('The number',x,'comes between 10 and 20')\n",
        "else:\n",
        "  print('The number',x,'is less than 10')"
      ],
      "metadata": {
        "colab": {
          "base_uri": "https://localhost:8080/"
        },
        "id": "ClSRNmL68-3y",
        "outputId": "e66cdb5f-e725-4405-a7ca-c5a61e107912"
      },
      "execution_count": null,
      "outputs": [
        {
          "output_type": "stream",
          "name": "stdout",
          "text": [
            "enter you number: 6\n",
            "The number 6 is less than 10\n"
          ]
        }
      ]
    },
    {
      "cell_type": "markdown",
      "source": [
        "Take a number as input from the user and check if the number is +ve, -ve or 0"
      ],
      "metadata": {
        "id": "MrR1hPVR_YKL"
      }
    },
    {
      "cell_type": "code",
      "source": [
        "num=int(input(\"enter your number: \"))\n",
        "if num>=0:\n",
        "  if num>0:\n",
        "    print('The number',num,'is a positive number')\n",
        "  else:\n",
        "    print('The number is',num)\n",
        "else:\n",
        "  print('The number',num,'is a negative number')"
      ],
      "metadata": {
        "colab": {
          "base_uri": "https://localhost:8080/"
        },
        "id": "hn0RYukV9bpt",
        "outputId": "2f63827a-10d0-4b77-804c-d4645b93033d"
      },
      "execution_count": null,
      "outputs": [
        {
          "output_type": "stream",
          "name": "stdout",
          "text": [
            "enter your number: -5\n",
            "The number -5 is a negative number\n"
          ]
        }
      ]
    },
    {
      "cell_type": "markdown",
      "source": [
        "Take a number as input from the user and check if it is positive or negative. In either case check if the number is even number or an odd number"
      ],
      "metadata": {
        "id": "fEl9A8u9A4Tp"
      }
    },
    {
      "cell_type": "code",
      "source": [
        "num=int(input(\"enter your number: \"))\n",
        "if num>=0:\n",
        "  if num>0:\n",
        "    if num%2==0:\n",
        "      print('The number',num,'is a positive even number')\n",
        "    else:\n",
        "      print('The number',num,'is a positive odd number')\n",
        "  else:\n",
        "    print('The number is',num)\n",
        "else:\n",
        "  if num%2==0:\n",
        "      print('The number',num,'is a negative even number')\n",
        "  else:\n",
        "      print('The number',num,'is a negative odd number')"
      ],
      "metadata": {
        "colab": {
          "base_uri": "https://localhost:8080/"
        },
        "id": "V5HbJOBTAwTK",
        "outputId": "af2b9a47-0a67-42b2-f787-9105f8d4aad4"
      },
      "execution_count": null,
      "outputs": [
        {
          "output_type": "stream",
          "name": "stdout",
          "text": [
            "enter your number: -4\n",
            "The number -4 is a negative even number\n"
          ]
        }
      ]
    },
    {
      "cell_type": "markdown",
      "source": [
        "LOOPS"
      ],
      "metadata": {
        "id": "8pnPycgFD3tz"
      }
    },
    {
      "cell_type": "code",
      "source": [
        "a=1\n",
        "while a<=10:\n",
        "  print(a)\n",
        "  a=a+1"
      ],
      "metadata": {
        "colab": {
          "base_uri": "https://localhost:8080/"
        },
        "id": "qxtmcTI1C4uz",
        "outputId": "fa8ce91c-5a8d-4de8-8449-a4858e77b672"
      },
      "execution_count": null,
      "outputs": [
        {
          "output_type": "stream",
          "name": "stdout",
          "text": [
            "1\n",
            "2\n",
            "3\n",
            "4\n",
            "5\n",
            "6\n",
            "7\n",
            "8\n",
            "9\n",
            "10\n"
          ]
        }
      ]
    },
    {
      "cell_type": "code",
      "source": [
        "for i in range (1,11):\n",
        "  print(i)"
      ],
      "metadata": {
        "colab": {
          "base_uri": "https://localhost:8080/"
        },
        "id": "XiBWhViYJkFk",
        "outputId": "c50b7f3b-666f-46a3-e52b-cfbd00edad74"
      },
      "execution_count": null,
      "outputs": [
        {
          "output_type": "stream",
          "name": "stdout",
          "text": [
            "1\n",
            "2\n",
            "3\n",
            "4\n",
            "5\n",
            "6\n",
            "7\n",
            "8\n",
            "9\n",
            "10\n"
          ]
        }
      ]
    },
    {
      "cell_type": "code",
      "source": [
        "a=7\n",
        "b=5\n",
        "\n",
        "while a<=9:\n",
        "  print(a*b)\n",
        "  a=a+1"
      ],
      "metadata": {
        "colab": {
          "base_uri": "https://localhost:8080/"
        },
        "id": "31vvcE3pHKw_",
        "outputId": "600d7c30-e1e2-4b03-8454-db30110df80c"
      },
      "execution_count": null,
      "outputs": [
        {
          "output_type": "stream",
          "name": "stdout",
          "text": [
            "35\n",
            "40\n",
            "45\n"
          ]
        }
      ]
    },
    {
      "cell_type": "code",
      "source": [
        "x=5\n",
        "while x<15:\n",
        "  print(x**2)\n",
        "  x=x+3"
      ],
      "metadata": {
        "colab": {
          "base_uri": "https://localhost:8080/"
        },
        "id": "PAwNaszlHjFb",
        "outputId": "7287e01b-5c2a-45a4-f9a9-9c0d28893987"
      },
      "execution_count": null,
      "outputs": [
        {
          "output_type": "stream",
          "name": "stdout",
          "text": [
            "25\n",
            "64\n",
            "121\n",
            "196\n"
          ]
        }
      ]
    },
    {
      "cell_type": "code",
      "source": [
        "c=0\n",
        "while c<20:\n",
        "  print(c)\n",
        "  c=c+2"
      ],
      "metadata": {
        "id": "yWtGpRoVKH3j",
        "colab": {
          "base_uri": "https://localhost:8080/"
        },
        "outputId": "89b9df58-5b9d-49b4-e6d9-7261bb851bbb"
      },
      "execution_count": null,
      "outputs": [
        {
          "output_type": "stream",
          "name": "stdout",
          "text": [
            "0\n",
            "2\n",
            "4\n",
            "6\n",
            "8\n",
            "10\n",
            "12\n",
            "14\n",
            "16\n",
            "18\n"
          ]
        }
      ]
    },
    {
      "cell_type": "markdown",
      "source": [
        "Take a list of your choice and display the elements one by one"
      ],
      "metadata": {
        "id": "OzEtzAyPAsX6"
      }
    },
    {
      "cell_type": "code",
      "source": [
        "list=['Rohit',35,96,'India']\n",
        "\n",
        "for i in list:\n",
        "  print(i)"
      ],
      "metadata": {
        "colab": {
          "base_uri": "https://localhost:8080/"
        },
        "id": "fKwcaLjZAMpX",
        "outputId": "b1307ee5-ab6f-4973-dd59-2866691b7c2e"
      },
      "execution_count": null,
      "outputs": [
        {
          "output_type": "stream",
          "name": "stdout",
          "text": [
            "Rohit\n",
            "35\n",
            "96\n",
            "India\n"
          ]
        }
      ]
    },
    {
      "cell_type": "markdown",
      "source": [
        "Take a list of numbers and square all the elements given in the list"
      ],
      "metadata": {
        "id": "6B_Np7C6BN_S"
      }
    },
    {
      "cell_type": "code",
      "source": [
        "l1=[23,4,5,89]\n",
        "\n",
        "for i in l1:\n",
        "  print(i**2)"
      ],
      "metadata": {
        "colab": {
          "base_uri": "https://localhost:8080/"
        },
        "id": "CcsRdqoeA4ac",
        "outputId": "361edadc-fe9e-4d56-9777-1a181eaacb9f"
      },
      "execution_count": null,
      "outputs": [
        {
          "output_type": "stream",
          "name": "stdout",
          "text": [
            "529\n",
            "16\n",
            "25\n",
            "7921\n"
          ]
        }
      ]
    },
    {
      "cell_type": "markdown",
      "source": [
        "Take a list of numbers and append the squares in a separate list"
      ],
      "metadata": {
        "id": "U4hcwm0YBboV"
      }
    },
    {
      "cell_type": "code",
      "source": [
        "l1=[23,4,5,7,12]\n",
        "l2=[]\n",
        "\n",
        "for i in l1:\n",
        "  sq=(i*i)\n",
        "  l2.append(sq)\n",
        "print(l2)"
      ],
      "metadata": {
        "colab": {
          "base_uri": "https://localhost:8080/"
        },
        "id": "1plb9qtSBXaX",
        "outputId": "3bd3bc66-23f8-422a-d063-8f43fc24650f"
      },
      "execution_count": null,
      "outputs": [
        {
          "output_type": "stream",
          "name": "stdout",
          "text": [
            "[529, 16, 25, 49, 144]\n"
          ]
        }
      ]
    },
    {
      "cell_type": "markdown",
      "source": [
        "Take a list of numbers and display all the even numbers from the list"
      ],
      "metadata": {
        "id": "7fH2Q5vqCfVV"
      }
    },
    {
      "cell_type": "code",
      "source": [
        "l1=[2,34,5,6,7,87,24]\n",
        "l2=[]\n",
        "for i in l1:\n",
        "  if i%2==0:\n",
        "    l2.append(i)\n",
        "print(l2)\n"
      ],
      "metadata": {
        "colab": {
          "base_uri": "https://localhost:8080/"
        },
        "id": "yzXQX1tfB7cH",
        "outputId": "a837b397-5950-4ddc-9a9b-ff8791919e17"
      },
      "execution_count": null,
      "outputs": [
        {
          "output_type": "stream",
          "name": "stdout",
          "text": [
            "[2, 34, 6, 24]\n"
          ]
        }
      ]
    },
    {
      "cell_type": "markdown",
      "source": [
        "Take a list of numbers and display the count of even numbers "
      ],
      "metadata": {
        "id": "Bl7u8bJID0jn"
      }
    },
    {
      "cell_type": "code",
      "source": [
        "l1=[2,34,5,6,7,87,24]\n",
        "count=0\n",
        "\n",
        "for i in l1:\n",
        "  if i%2==0:\n",
        "    count=count+1\n",
        "print('The total number of even number is',count)"
      ],
      "metadata": {
        "colab": {
          "base_uri": "https://localhost:8080/"
        },
        "id": "HoOOMdrLC-VN",
        "outputId": "4de10189-4d35-4110-ba38-5f0c47504b1c"
      },
      "execution_count": null,
      "outputs": [
        {
          "output_type": "stream",
          "name": "stdout",
          "text": [
            "The total number of even number is 4\n"
          ]
        }
      ]
    },
    {
      "cell_type": "markdown",
      "source": [
        "Take a list of numbers and display the count of both even and odd numbers"
      ],
      "metadata": {
        "id": "Ts_-brsAF25U"
      }
    },
    {
      "cell_type": "code",
      "source": [
        "l1=[2,34,5,6,7,87,24]\n",
        "count_even=0\n",
        "count_odd=0\n",
        "\n",
        "for i in l1:\n",
        "  if i%2==0:\n",
        "    count_even=count+1\n",
        "  else:\n",
        "    count_odd=count_odd+1\n",
        "print('The total number of even number is',count_even)\n",
        "print('The total number of odd number is',count_odd)\n"
      ],
      "metadata": {
        "colab": {
          "base_uri": "https://localhost:8080/"
        },
        "id": "cC9Ejn23EN1a",
        "outputId": "6effec6c-f064-49a7-f042-bf6b5447ea8d"
      },
      "execution_count": null,
      "outputs": [
        {
          "output_type": "stream",
          "name": "stdout",
          "text": [
            "The total number of even number is 5\n",
            "The total number of odd number is 3\n"
          ]
        }
      ]
    },
    {
      "cell_type": "markdown",
      "source": [
        "Take a number as input from the user and display the multiplication table (till 10) for that number"
      ],
      "metadata": {
        "id": "HxFntgVGHfxe"
      }
    },
    {
      "cell_type": "code",
      "source": [
        "num=int(input('enter the number of your choice: '))\n",
        "\n",
        "for i in range(1,11):\n",
        "  print(num*i)"
      ],
      "metadata": {
        "colab": {
          "base_uri": "https://localhost:8080/"
        },
        "id": "p9dFHIuwGO66",
        "outputId": "ab9a161b-ab06-4c4d-fc88-19c3bd9d8700"
      },
      "execution_count": null,
      "outputs": [
        {
          "output_type": "stream",
          "name": "stdout",
          "text": [
            "enter the number of your choice: 67\n",
            "67\n",
            "134\n",
            "201\n",
            "268\n",
            "335\n",
            "402\n",
            "469\n",
            "536\n",
            "603\n",
            "670\n"
          ]
        }
      ]
    },
    {
      "cell_type": "markdown",
      "source": [
        "Calculate the sum and average of all numbers from 1 to a given number by the user"
      ],
      "metadata": {
        "id": "1sxxc6MeJPI3"
      }
    },
    {
      "cell_type": "code",
      "source": [
        "num=int(input('enter the number of your choice: '))\n",
        "sum=0\n",
        "\n",
        "for i in range(1,num+1):\n",
        "  sum=sum+i\n",
        "print('the sum of the numbers is ',sum)\n",
        "print('the average of the numbers is ',sum/num)"
      ],
      "metadata": {
        "colab": {
          "base_uri": "https://localhost:8080/"
        },
        "id": "b3GSK3BpHzuG",
        "outputId": "9de15aff-664f-4b6d-e739-667f8e979dab"
      },
      "execution_count": null,
      "outputs": [
        {
          "output_type": "stream",
          "name": "stdout",
          "text": [
            "enter the number of your choice: 10\n",
            "the sum of the numbers is  55\n",
            "the average of the numbers is  5.5\n"
          ]
        }
      ]
    },
    {
      "cell_type": "markdown",
      "source": [
        "Statements\n",
        "\n",
        "Pass\n",
        "\n",
        "Break\n",
        "\n",
        "continue"
      ],
      "metadata": {
        "id": "eRtw6JDkL-kW"
      }
    },
    {
      "cell_type": "code",
      "source": [
        "#pass - it makes the code segment inactive\n",
        "x=int(input('enter the number of your choice: '))\n",
        "y=int(input('enter the number of your choice: '))\n",
        "\n",
        "if x>y:\n",
        "  print('x is greater than y')\n",
        "else:\n",
        "  pass"
      ],
      "metadata": {
        "colab": {
          "base_uri": "https://localhost:8080/"
        },
        "id": "7ypmX7XJL9Gy",
        "outputId": "18273b8c-af87-43fd-c655-e0037e06cf90"
      },
      "execution_count": null,
      "outputs": [
        {
          "name": "stdout",
          "output_type": "stream",
          "text": [
            "enter the number of your choice: 5\n",
            "enter the number of your choice: 8\n"
          ]
        }
      ]
    },
    {
      "cell_type": "code",
      "source": [
        "#break - focebly come out of the loop\n",
        "\n",
        "fruits=['apple','mango','banana','grapes']\n",
        "\n",
        "for i in fruits:\n",
        "  if i=='banana':\n",
        "    break\n",
        "  print(i)"
      ],
      "metadata": {
        "colab": {
          "base_uri": "https://localhost:8080/"
        },
        "id": "FOm9zx0OKKP6",
        "outputId": "2c218986-d7d7-4c3f-8fd0-99a17abd0bc9"
      },
      "execution_count": null,
      "outputs": [
        {
          "output_type": "stream",
          "name": "stdout",
          "text": [
            "apple\n",
            "mango\n"
          ]
        }
      ]
    },
    {
      "cell_type": "code",
      "source": [
        "#continue- the element which is in condition get skipped but the loop continues to itrate whithout that element\n",
        "\n",
        "fruits=['apple','mango','banana','grapes']\n",
        "\n",
        "for i in fruits:\n",
        "  if i=='banana':\n",
        "    continue\n",
        "  print(i)"
      ],
      "metadata": {
        "colab": {
          "base_uri": "https://localhost:8080/"
        },
        "id": "SIaR-ZYcOYUr",
        "outputId": "314f040c-f505-41e2-a648-adfeacfb40a9"
      },
      "execution_count": null,
      "outputs": [
        {
          "output_type": "stream",
          "name": "stdout",
          "text": [
            "apple\n",
            "mango\n",
            "grapes\n"
          ]
        }
      ]
    },
    {
      "cell_type": "markdown",
      "source": [
        "Display all the numbers between 1 to 10 except 3 or 7"
      ],
      "metadata": {
        "id": "xJIB3wYwSEUv"
      }
    },
    {
      "cell_type": "code",
      "source": [
        "num=[1,2,3,4,5,6,7,8,9,10]\n",
        "\n",
        "for i in num:\n",
        "  if i==3 or i==7:\n",
        "    continue\n",
        "  print(i)"
      ],
      "metadata": {
        "colab": {
          "base_uri": "https://localhost:8080/"
        },
        "id": "DbiZ8_C2ROzU",
        "outputId": "72b33fe3-aadb-4bd6-b545-2226160f56fe"
      },
      "execution_count": null,
      "outputs": [
        {
          "output_type": "stream",
          "name": "stdout",
          "text": [
            "1\n",
            "2\n",
            "4\n",
            "5\n",
            "6\n",
            "8\n",
            "9\n",
            "10\n"
          ]
        }
      ]
    },
    {
      "cell_type": "code",
      "source": [
        "for i in range(1,11):\n",
        "  if i==3 or i==7:\n",
        "    continue\n",
        "  print(i)"
      ],
      "metadata": {
        "colab": {
          "base_uri": "https://localhost:8080/"
        },
        "id": "XCCHNVEfSZrW",
        "outputId": "ca432af2-556a-4795-9519-b5cd581fad73"
      },
      "execution_count": null,
      "outputs": [
        {
          "output_type": "stream",
          "name": "stdout",
          "text": [
            "1\n",
            "2\n",
            "4\n",
            "5\n",
            "6\n",
            "8\n",
            "9\n",
            "10\n"
          ]
        }
      ]
    },
    {
      "cell_type": "code",
      "source": [],
      "metadata": {
        "id": "4ZbjawZmS5OK"
      },
      "execution_count": null,
      "outputs": []
    }
  ]
}