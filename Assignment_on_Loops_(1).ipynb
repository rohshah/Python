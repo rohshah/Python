{
  "nbformat": 4,
  "nbformat_minor": 0,
  "metadata": {
    "colab": {
      "provenance": []
    },
    "kernelspec": {
      "name": "python3",
      "display_name": "Python 3"
    },
    "language_info": {
      "name": "python"
    }
  },
  "cells": [
    {
      "cell_type": "markdown",
      "source": [
        "Write a program which accepts month's name as input and display the number of days in the month as output "
      ],
      "metadata": {
        "id": "MdAkQQ_Y4wwG"
      }
    },
    {
      "cell_type": "code",
      "source": [
        "month_name= str(input(\"enter the month of your choice: \"))\n",
        "\n",
        "if month_name in (\"january, march, may, july, august, october, december\"):\n",
        "  print(\"the number of days is\", 31)\n",
        "elif month_name in (\"april, june, september, november\"):\n",
        "  print(\"the number of days is\", 30)\n",
        "elif month_name=='february':\n",
        "  print(\"the number of days are\", 28 or 29)\n",
        "else:\n",
        "  print(\"the name entered is invalid\")"
      ],
      "metadata": {
        "id": "Wy7YDWmc7jML",
        "colab": {
          "base_uri": "https://localhost:8080/"
        },
        "outputId": "e105d2b9-04c2-45a6-b3e8-f261384416ae"
      },
      "execution_count": null,
      "outputs": [
        {
          "output_type": "stream",
          "name": "stdout",
          "text": [
            "enter the month of your choice: february\n",
            "the number of days are 28\n"
          ]
        }
      ]
    },
    {
      "cell_type": "markdown",
      "source": [
        "Take any word as input from the user and count the number of vowels in the word"
      ],
      "metadata": {
        "id": "Q8cCBC198J6M"
      }
    },
    {
      "cell_type": "code",
      "source": [
        "word = input(\"enter the any word of your choice: \")\n",
        "count=0\n",
        "for i in word:\n",
        "  if i in ('AaEeIiOoUu'):\n",
        "    print(i)\n",
        "    count=count+1\n",
        "print(\"no of vowels is\", count)"
      ],
      "metadata": {
        "id": "gY_oIsw88KU6",
        "colab": {
          "base_uri": "https://localhost:8080/"
        },
        "outputId": "86b6bd4c-48c7-4764-c10a-b093d4b5a503"
      },
      "execution_count": null,
      "outputs": [
        {
          "output_type": "stream",
          "name": "stdout",
          "text": [
            "enter the any word of your choice: Australia\n",
            "A\n",
            "u\n",
            "a\n",
            "i\n",
            "a\n",
            "no of vowels is 5\n"
          ]
        }
      ]
    },
    {
      "cell_type": "markdown",
      "source": [
        "Write a program to separate even and odd numbers in two distinct lists from a list of numbers of your choice "
      ],
      "metadata": {
        "id": "1ugWwVXd49OI"
      }
    },
    {
      "cell_type": "code",
      "source": [
        "number=2,67,89,44,66,23,45,68,90,43\n",
        "\n",
        "even_list=[]\n",
        "odd_list=[]\n",
        "\n",
        "for i in number:\n",
        "  if i%2==0:\n",
        "    even_list.append(i)\n",
        "  else:\n",
        "    odd_list.append(i)\n",
        "print(\"Even number list: \", even_list)\n",
        "print(\"Odd number list: \", odd_list)"
      ],
      "metadata": {
        "id": "dP7_bUh37i2D",
        "colab": {
          "base_uri": "https://localhost:8080/"
        },
        "outputId": "ce1135f3-835b-4c70-d2e2-ff3f8a9e9b2d"
      },
      "execution_count": null,
      "outputs": [
        {
          "output_type": "stream",
          "name": "stdout",
          "text": [
            "Even number list:  [2, 44, 66, 68, 90]\n",
            "Odd number list:  [67, 89, 23, 45, 43]\n"
          ]
        }
      ]
    },
    {
      "cell_type": "markdown",
      "source": [
        "Write a program that appends datatype of elements from a list to a separate list"
      ],
      "metadata": {
        "id": "uaqnGrhs49Mf"
      }
    },
    {
      "cell_type": "code",
      "source": [
        "list=[12,34.45,'Agra',36,'Kolkata']\n",
        "\n",
        "type_list=[]\n",
        "\n",
        "for i in list:\n",
        "  type_list.append(type(i))\n",
        "print(type_list)"
      ],
      "metadata": {
        "id": "RH9DVuFT7ibC",
        "colab": {
          "base_uri": "https://localhost:8080/"
        },
        "outputId": "91de6c95-b394-4159-b0fc-017344661e21"
      },
      "execution_count": null,
      "outputs": [
        {
          "output_type": "stream",
          "name": "stdout",
          "text": [
            "[<class 'int'>, <class 'float'>, <class 'str'>, <class 'int'>, <class 'str'>]\n"
          ]
        }
      ]
    },
    {
      "cell_type": "markdown",
      "source": [
        "Take a number as input from the user and find its factorial"
      ],
      "metadata": {
        "id": "qhUdGd6s4837"
      }
    },
    {
      "cell_type": "code",
      "source": [
        "num = int(input(\"enter your number: \"))\n",
        "\n",
        "factorial=1\n",
        "for i in range(1,num+1):\n",
        "  factorial=factorial*i\n",
        "print(factorial)"
      ],
      "metadata": {
        "id": "ga1yDKM87iJa",
        "colab": {
          "base_uri": "https://localhost:8080/"
        },
        "outputId": "34cd1bb8-1b36-44c2-9e49-628a77a242a3"
      },
      "execution_count": null,
      "outputs": [
        {
          "output_type": "stream",
          "name": "stdout",
          "text": [
            "enter your number: -23\n",
            "1\n"
          ]
        }
      ]
    },
    {
      "cell_type": "markdown",
      "source": [
        "Write a program to display only those numbers from a list that satisfies the following conditions:\n",
        "\n",
        "1. The number must be divisible by 7\n",
        "\n",
        "2. If the number is equal to 140 then skip it and move to the next number in the list\n",
        "\n",
        "3. If the number in the list is greater than 630 then stop the loop"
      ],
      "metadata": {
        "id": "ddMu0Pj1643Y"
      }
    },
    {
      "cell_type": "code",
      "execution_count": null,
      "metadata": {
        "id": "QxFeRtW34rJV",
        "colab": {
          "base_uri": "https://localhost:8080/"
        },
        "outputId": "44d8dcbb-bfd8-4464-9554-41ca834dc84b"
      },
      "outputs": [
        {
          "output_type": "stream",
          "name": "stdout",
          "text": [
            "21\n",
            "35\n",
            "140\n",
            "630\n"
          ]
        }
      ],
      "source": [
        "num_list=[21,35,43,140,179,580,630,635]\n",
        "\n",
        "for i in num_list:\n",
        "  if i%7==0:\n",
        "    print(i)\n",
        "  elif i==140:\n",
        "    continue\n",
        "  elif i>630:\n",
        "    break\n",
        "  else:\n",
        "    pass"
      ]
    }
  ]
}