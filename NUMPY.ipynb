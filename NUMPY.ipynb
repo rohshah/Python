{
  "nbformat": 4,
  "nbformat_minor": 0,
  "metadata": {
    "colab": {
      "provenance": []
    },
    "kernelspec": {
      "name": "python3",
      "display_name": "Python 3"
    },
    "language_info": {
      "name": "python"
    }
  },
  "cells": [
    {
      "cell_type": "code",
      "execution_count": null,
      "metadata": {
        "colab": {
          "base_uri": "https://localhost:8080/"
        },
        "id": "v42a2lc_IU1K",
        "outputId": "4b2844c7-f25e-49ac-eacf-66de5494f316"
      },
      "outputs": [
        {
          "output_type": "stream",
          "name": "stdout",
          "text": [
            "['2' '3.5' 'india' '-34']\n"
          ]
        }
      ],
      "source": [
        "import numpy as np\n",
        "list=[2, 3.5, 'india', -34]\n",
        "\n",
        "type(list)\n",
        "\n",
        "arr=np.array(list)\n",
        "print(arr)"
      ]
    },
    {
      "cell_type": "code",
      "source": [
        "type(arr)"
      ],
      "metadata": {
        "colab": {
          "base_uri": "https://localhost:8080/"
        },
        "id": "NAB17CBbIsKa",
        "outputId": "2995fbb6-c7bd-4c9d-b857-e9d03ab2452b"
      },
      "execution_count": null,
      "outputs": [
        {
          "output_type": "execute_result",
          "data": {
            "text/plain": [
              "numpy.ndarray"
            ]
          },
          "metadata": {},
          "execution_count": 5
        }
      ]
    },
    {
      "cell_type": "code",
      "source": [
        "import numpy as np\n",
        "my_list1=[4,5,6,7,8]\n",
        "my_list2=[-2,6,8,3,4]\n",
        "my_list3=[5,6,0,-3,5]\n",
        "\n",
        "arr=np.array([my_list1, my_list2, my_list3])\n",
        "print(arr)"
      ],
      "metadata": {
        "id": "pb42M1HiJk6K",
        "colab": {
          "base_uri": "https://localhost:8080/"
        },
        "outputId": "4955c7bd-d390-4aba-bd55-b288f8019167"
      },
      "execution_count": null,
      "outputs": [
        {
          "output_type": "stream",
          "name": "stdout",
          "text": [
            "[[ 4  5  6  7  8]\n",
            " [-2  6  8  3  4]\n",
            " [ 5  6  0 -3  5]]\n"
          ]
        }
      ]
    },
    {
      "cell_type": "code",
      "source": [
        "arr[0:2,2:]"
      ],
      "metadata": {
        "colab": {
          "base_uri": "https://localhost:8080/"
        },
        "id": "ec3F-xGf2kLn",
        "outputId": "58b7dd2c-50e5-42c8-ac6b-c250e49535af"
      },
      "execution_count": null,
      "outputs": [
        {
          "output_type": "execute_result",
          "data": {
            "text/plain": [
              "array([[6, 7, 8],\n",
              "       [8, 3, 4]])"
            ]
          },
          "metadata": {},
          "execution_count": 6
        }
      ]
    },
    {
      "cell_type": "code",
      "source": [
        "arr[0:2,0:2]"
      ],
      "metadata": {
        "colab": {
          "base_uri": "https://localhost:8080/"
        },
        "id": "wNQoa0Oj26iy",
        "outputId": "baca7615-38b1-482d-a964-d0b909d02602"
      },
      "execution_count": null,
      "outputs": [
        {
          "output_type": "execute_result",
          "data": {
            "text/plain": [
              "array([[ 4,  5],\n",
              "       [-2,  6]])"
            ]
          },
          "metadata": {},
          "execution_count": 7
        }
      ]
    },
    {
      "cell_type": "code",
      "source": [
        "arr[1:,:4]"
      ],
      "metadata": {
        "colab": {
          "base_uri": "https://localhost:8080/"
        },
        "id": "0QfvEyj73XdO",
        "outputId": "de891709-840a-4024-be0d-9d15f5313ba3"
      },
      "execution_count": null,
      "outputs": [
        {
          "output_type": "execute_result",
          "data": {
            "text/plain": [
              "array([[-2,  6,  8,  3],\n",
              "       [ 5,  6,  0, -3]])"
            ]
          },
          "metadata": {},
          "execution_count": 8
        }
      ]
    },
    {
      "cell_type": "code",
      "source": [
        "np.linspace(1,10)"
      ],
      "metadata": {
        "colab": {
          "base_uri": "https://localhost:8080/"
        },
        "id": "tPLj2pVa3ar7",
        "outputId": "a02af2c3-414a-49e7-f037-66283d9491fb"
      },
      "execution_count": null,
      "outputs": [
        {
          "output_type": "execute_result",
          "data": {
            "text/plain": [
              "array([ 1.        ,  1.18367347,  1.36734694,  1.55102041,  1.73469388,\n",
              "        1.91836735,  2.10204082,  2.28571429,  2.46938776,  2.65306122,\n",
              "        2.83673469,  3.02040816,  3.20408163,  3.3877551 ,  3.57142857,\n",
              "        3.75510204,  3.93877551,  4.12244898,  4.30612245,  4.48979592,\n",
              "        4.67346939,  4.85714286,  5.04081633,  5.2244898 ,  5.40816327,\n",
              "        5.59183673,  5.7755102 ,  5.95918367,  6.14285714,  6.32653061,\n",
              "        6.51020408,  6.69387755,  6.87755102,  7.06122449,  7.24489796,\n",
              "        7.42857143,  7.6122449 ,  7.79591837,  7.97959184,  8.16326531,\n",
              "        8.34693878,  8.53061224,  8.71428571,  8.89795918,  9.08163265,\n",
              "        9.26530612,  9.44897959,  9.63265306,  9.81632653, 10.        ])"
            ]
          },
          "metadata": {},
          "execution_count": 10
        }
      ]
    },
    {
      "cell_type": "code",
      "source": [
        "np.random.rand(5,6)#here 3 & 4 are indicating rows & column // it has a default range of 0-1(i being exclusive in nature)"
      ],
      "metadata": {
        "colab": {
          "base_uri": "https://localhost:8080/"
        },
        "id": "-Ls8qR9t84lA",
        "outputId": "bd422ddc-5318-4c86-be73-bb11c7a8855c"
      },
      "execution_count": null,
      "outputs": [
        {
          "output_type": "execute_result",
          "data": {
            "text/plain": [
              "array([[0.91424273, 0.6086574 , 0.31436393, 0.98527604, 0.70891568,\n",
              "        0.32207448],\n",
              "       [0.3297023 , 0.64331407, 0.37750576, 0.19589115, 0.1073368 ,\n",
              "        0.40456162],\n",
              "       [0.93554838, 0.60887741, 0.87656125, 0.00442685, 0.42997048,\n",
              "        0.75307132],\n",
              "       [0.28726509, 0.63884696, 0.11266644, 0.45945007, 0.85878972,\n",
              "        0.43654471],\n",
              "       [0.54933091, 0.86612955, 0.62896915, 0.00487701, 0.13082403,\n",
              "        0.19248956]])"
            ]
          },
          "metadata": {},
          "execution_count": 16
        }
      ]
    },
    {
      "cell_type": "code",
      "source": [
        "np.random.randint(100,200,20)"
      ],
      "metadata": {
        "colab": {
          "base_uri": "https://localhost:8080/"
        },
        "id": "HZOnenYaAHOx",
        "outputId": "2430c269-3d8d-4569-902f-d7d83d2fbe9e"
      },
      "execution_count": null,
      "outputs": [
        {
          "output_type": "execute_result",
          "data": {
            "text/plain": [
              "array([169, 147, 190, 175, 121, 135, 190, 114, 173, 178, 117, 105, 114,\n",
              "       199, 116, 144, 180, 103, 178, 117])"
            ]
          },
          "metadata": {},
          "execution_count": 22
        }
      ]
    },
    {
      "cell_type": "code",
      "source": [],
      "metadata": {
        "id": "Wl-VcWZADJ_F"
      },
      "execution_count": null,
      "outputs": []
    }
  ]
}