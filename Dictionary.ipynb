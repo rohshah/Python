{
  "nbformat": 4,
  "nbformat_minor": 0,
  "metadata": {
    "colab": {
      "provenance": []
    },
    "kernelspec": {
      "name": "python3",
      "display_name": "Python 3"
    },
    "language_info": {
      "name": "python"
    }
  },
  "cells": [
    {
      "cell_type": "code",
      "execution_count": null,
      "metadata": {
        "colab": {
          "base_uri": "https://localhost:8080/"
        },
        "id": "Yj8KozDh27yg",
        "outputId": "52e05c6b-d545-4ef5-c220-f66b2523b58f"
      },
      "outputs": [
        {
          "output_type": "stream",
          "name": "stdout",
          "text": [
            "{'notebook': 90, 'pen': 40, 'chips': 20, 'chocolate': 80}\n"
          ]
        }
      ],
      "source": [
        "memo={'notebook': 90, 'pen': 40, 'chips': 20, 'chocolate': 80}\n",
        "print(memo)"
      ]
    },
    {
      "cell_type": "code",
      "source": [
        "type(memo)"
      ],
      "metadata": {
        "colab": {
          "base_uri": "https://localhost:8080/"
        },
        "id": "OPrMHRuD3VVt",
        "outputId": "86c31dd2-13b1-4ccd-a754-7136a3cc0db2"
      },
      "execution_count": null,
      "outputs": [
        {
          "output_type": "execute_result",
          "data": {
            "text/plain": [
              "dict"
            ]
          },
          "metadata": {},
          "execution_count": 2
        }
      ]
    },
    {
      "cell_type": "code",
      "source": [
        "memo['notebook']"
      ],
      "metadata": {
        "colab": {
          "base_uri": "https://localhost:8080/"
        },
        "id": "qhFqKS973XQQ",
        "outputId": "e7ec11ca-6a5b-4952-903e-b7f0abe81ab6"
      },
      "execution_count": null,
      "outputs": [
        {
          "output_type": "execute_result",
          "data": {
            "text/plain": [
              "90"
            ]
          },
          "metadata": {},
          "execution_count": 5
        }
      ]
    },
    {
      "cell_type": "code",
      "source": [
        "#adding new key value pair in dict\n",
        "memo['colddrink']=100"
      ],
      "metadata": {
        "id": "4NXDIngg3csg"
      },
      "execution_count": null,
      "outputs": []
    },
    {
      "cell_type": "code",
      "source": [
        "print(memo)"
      ],
      "metadata": {
        "colab": {
          "base_uri": "https://localhost:8080/"
        },
        "id": "Yrh_UmIN345a",
        "outputId": "e5b9f4ed-4007-47ef-b2a3-9004e25665a1"
      },
      "execution_count": null,
      "outputs": [
        {
          "output_type": "stream",
          "name": "stdout",
          "text": [
            "{'notebook': 90, 'pen': 40, 'chips': 20, 'chocolate': 80, 'colddrink': 100}\n"
          ]
        }
      ]
    },
    {
      "cell_type": "code",
      "source": [
        "memo['pen']=80"
      ],
      "metadata": {
        "id": "jtyOo6FD36ky"
      },
      "execution_count": null,
      "outputs": []
    },
    {
      "cell_type": "code",
      "source": [
        "print(memo)"
      ],
      "metadata": {
        "colab": {
          "base_uri": "https://localhost:8080/"
        },
        "id": "Tg6GKZWK4Mbo",
        "outputId": "93bfdfa9-dcd7-49fc-d7ae-21ed1b64bc40"
      },
      "execution_count": null,
      "outputs": [
        {
          "output_type": "stream",
          "name": "stdout",
          "text": [
            "{'notebook': 90, 'pen': 80, 'chips': 20, 'chocolate': 80, 'colddrink': 100}\n"
          ]
        }
      ]
    },
    {
      "cell_type": "code",
      "source": [
        "#deleting existing pair\n",
        "del memo['chips']\n",
        "print(memo)"
      ],
      "metadata": {
        "colab": {
          "base_uri": "https://localhost:8080/"
        },
        "id": "9lYVgw744NuA",
        "outputId": "7a3b4e07-9f31-427e-994f-48f224f24dca"
      },
      "execution_count": null,
      "outputs": [
        {
          "output_type": "stream",
          "name": "stdout",
          "text": [
            "{'notebook': 90, 'pen': 80, 'chocolate': 80, 'colddrink': 100}\n"
          ]
        }
      ]
    },
    {
      "cell_type": "code",
      "source": [
        "memo.pop('pen')\n",
        "print(memo)"
      ],
      "metadata": {
        "colab": {
          "base_uri": "https://localhost:8080/"
        },
        "id": "Rd8QhomF5qJ1",
        "outputId": "06e26181-ac9d-408b-bd50-72b8cef182aa"
      },
      "execution_count": null,
      "outputs": [
        {
          "output_type": "stream",
          "name": "stdout",
          "text": [
            "{'notebook': 90, 'chocolate': 80, 'colddrink': 100}\n"
          ]
        }
      ]
    },
    {
      "cell_type": "code",
      "source": [
        "#merging two list in one dict\n",
        "l1=['name', 'age', 'salary', 'occupation']#keys\n",
        "l2=['Rohit', '23', '19000', 'Analyst']#values"
      ],
      "metadata": {
        "id": "5oI9Pr5c5xrP"
      },
      "execution_count": null,
      "outputs": []
    },
    {
      "cell_type": "code",
      "source": [
        "dict_new=dict(zip(l1,l2))"
      ],
      "metadata": {
        "id": "qwLnJID56kbX"
      },
      "execution_count": null,
      "outputs": []
    },
    {
      "cell_type": "code",
      "source": [
        "print(dict_new)"
      ],
      "metadata": {
        "colab": {
          "base_uri": "https://localhost:8080/"
        },
        "id": "pPV5iiSh6uCf",
        "outputId": "84017265-9f7a-4033-f70b-207753d9a87e"
      },
      "execution_count": null,
      "outputs": [
        {
          "output_type": "stream",
          "name": "stdout",
          "text": [
            "{'name': 'Rohit', 'age': '23', 'salary': '19000', 'occupation': 'Analyst'}\n"
          ]
        }
      ]
    },
    {
      "cell_type": "code",
      "source": [
        "dict_new['salary']=50000"
      ],
      "metadata": {
        "id": "e8vW6aJh6wLp"
      },
      "execution_count": null,
      "outputs": []
    },
    {
      "cell_type": "code",
      "source": [
        "print(dict_new)"
      ],
      "metadata": {
        "colab": {
          "base_uri": "https://localhost:8080/"
        },
        "id": "PPuRGcln652Z",
        "outputId": "32e340fb-38c9-461c-a76e-54615fd0db67"
      },
      "execution_count": null,
      "outputs": [
        {
          "output_type": "stream",
          "name": "stdout",
          "text": [
            "{'name': 'Rohit', 'age': '23', 'salary': 50000, 'occupation': 'Analyst'}\n"
          ]
        }
      ]
    },
    {
      "cell_type": "code",
      "source": [],
      "metadata": {
        "id": "g-NHO7J_68fs"
      },
      "execution_count": null,
      "outputs": []
    }
  ]
}