{
  "nbformat": 4,
  "nbformat_minor": 0,
  "metadata": {
    "colab": {
      "provenance": []
    },
    "kernelspec": {
      "name": "python3",
      "display_name": "Python 3"
    },
    "language_info": {
      "name": "python"
    }
  },
  "cells": [
    {
      "cell_type": "markdown",
      "source": [
        "Create a function which adds any given two numbers"
      ],
      "metadata": {
        "id": "-UlElkI4O6cv"
      }
    },
    {
      "cell_type": "code",
      "execution_count": null,
      "metadata": {
        "id": "UJpNYRkqOoyr"
      },
      "outputs": [],
      "source": [
        "def add(a,b):\n",
        "  s=a+b\n",
        "  print(s)"
      ]
    },
    {
      "cell_type": "code",
      "source": [
        "add(4,6)"
      ],
      "metadata": {
        "colab": {
          "base_uri": "https://localhost:8080/"
        },
        "id": "C59ARIMPPGpC",
        "outputId": "e486ec92-0214-4b03-fb2c-e8c0e9fb191a"
      },
      "execution_count": null,
      "outputs": [
        {
          "output_type": "stream",
          "name": "stdout",
          "text": [
            "10\n"
          ]
        }
      ]
    },
    {
      "cell_type": "code",
      "source": [
        "add(69,-987)"
      ],
      "metadata": {
        "colab": {
          "base_uri": "https://localhost:8080/"
        },
        "id": "3Ho5NvwvPI5J",
        "outputId": "f4a97743-cbb2-4b37-ce4b-3e85b51d5e72"
      },
      "execution_count": null,
      "outputs": [
        {
          "output_type": "stream",
          "name": "stdout",
          "text": [
            "-918\n"
          ]
        }
      ]
    },
    {
      "cell_type": "code",
      "source": [
        "add(4,3,4) #when defined function for two parameters we cannot assign any other paramenter in order to do so we have to create another function"
      ],
      "metadata": {
        "colab": {
          "base_uri": "https://localhost:8080/",
          "height": 183
        },
        "id": "CayF2NPGQFEE",
        "outputId": "ecd89720-9fb1-4e3f-cd89-c1c1169f0a54"
      },
      "execution_count": null,
      "outputs": [
        {
          "output_type": "error",
          "ename": "TypeError",
          "evalue": "ignored",
          "traceback": [
            "\u001b[0;31m---------------------------------------------------------------------------\u001b[0m",
            "\u001b[0;31mTypeError\u001b[0m                                 Traceback (most recent call last)",
            "\u001b[0;32m<ipython-input-26-4a4f3341f3d3>\u001b[0m in \u001b[0;36m<module>\u001b[0;34m\u001b[0m\n\u001b[0;32m----> 1\u001b[0;31m \u001b[0madd\u001b[0m\u001b[0;34m(\u001b[0m\u001b[0;36m4\u001b[0m\u001b[0;34m,\u001b[0m\u001b[0;36m3\u001b[0m\u001b[0;34m,\u001b[0m\u001b[0;36m4\u001b[0m\u001b[0;34m)\u001b[0m \u001b[0;31m#when defined function for two parameters we cannot assign any other paramenter in order to do so we have to create another function\u001b[0m\u001b[0;34m\u001b[0m\u001b[0;34m\u001b[0m\u001b[0m\n\u001b[0m",
            "\u001b[0;31mTypeError\u001b[0m: add() takes 2 positional arguments but 3 were given"
          ]
        }
      ]
    },
    {
      "cell_type": "markdown",
      "source": [
        "Create a function which adds any given three numbers"
      ],
      "metadata": {
        "id": "cXsUIpOjPXtk"
      }
    },
    {
      "cell_type": "code",
      "source": [
        "def adding(a,b,c):\n",
        "  s=a+b+c\n",
        "  print(s)"
      ],
      "metadata": {
        "id": "GnmuN5r4PQRB"
      },
      "execution_count": null,
      "outputs": []
    },
    {
      "cell_type": "code",
      "source": [
        "adding(45,87,98)"
      ],
      "metadata": {
        "colab": {
          "base_uri": "https://localhost:8080/"
        },
        "id": "k6-VpRKyPdMe",
        "outputId": "b62ee7e5-4fbf-4f1b-8967-cbb003f1e37e"
      },
      "execution_count": null,
      "outputs": [
        {
          "output_type": "stream",
          "name": "stdout",
          "text": [
            "230\n"
          ]
        }
      ]
    },
    {
      "cell_type": "code",
      "source": [
        "adding(23,78) #when created function for 3 parameters we are not supposed to give any less or excess parameters as it will show an error "
      ],
      "metadata": {
        "colab": {
          "base_uri": "https://localhost:8080/",
          "height": 166
        },
        "id": "sBwUQF3RPfyt",
        "outputId": "a83e2597-a302-4d0e-bad7-6ee1b8c86751"
      },
      "execution_count": null,
      "outputs": [
        {
          "output_type": "error",
          "ename": "TypeError",
          "evalue": "ignored",
          "traceback": [
            "\u001b[0;31m---------------------------------------------------------------------------\u001b[0m",
            "\u001b[0;31mTypeError\u001b[0m                                 Traceback (most recent call last)",
            "\u001b[0;32m<ipython-input-29-f98a657af53e>\u001b[0m in \u001b[0;36m<module>\u001b[0;34m\u001b[0m\n\u001b[0;32m----> 1\u001b[0;31m \u001b[0madding\u001b[0m\u001b[0;34m(\u001b[0m\u001b[0;36m23\u001b[0m\u001b[0;34m,\u001b[0m\u001b[0;36m78\u001b[0m\u001b[0;34m)\u001b[0m \u001b[0;31m#when created function for 3 parameters we are not supposed to give any less or excess parameters as it will show an error\u001b[0m\u001b[0;34m\u001b[0m\u001b[0;34m\u001b[0m\u001b[0m\n\u001b[0m",
            "\u001b[0;31mTypeError\u001b[0m: adding() missing 1 required positional argument: 'c'"
          ]
        }
      ]
    },
    {
      "cell_type": "markdown",
      "source": [
        "create a funtion which displays whole number output of division operation on 2 numbers"
      ],
      "metadata": {
        "id": "6dY_Wf-eWP2T"
      }
    },
    {
      "cell_type": "code",
      "source": [
        "def div(a,b):\n",
        "  c=a//b\n",
        "  print(c)"
      ],
      "metadata": {
        "id": "13mnxFHaPuMG"
      },
      "execution_count": null,
      "outputs": []
    },
    {
      "cell_type": "code",
      "source": [
        "div(10,3)"
      ],
      "metadata": {
        "colab": {
          "base_uri": "https://localhost:8080/"
        },
        "id": "HARXFyPUWi6t",
        "outputId": "5d3b0ae7-ef16-49cd-f60c-e6e94357bbb3"
      },
      "execution_count": null,
      "outputs": [
        {
          "output_type": "stream",
          "name": "stdout",
          "text": [
            "3\n"
          ]
        }
      ]
    },
    {
      "cell_type": "markdown",
      "source": [
        "create a function which displays addition, substraction, multiplication & division of 2 numbers"
      ],
      "metadata": {
        "id": "4fXlSUDcXdQO"
      }
    },
    {
      "cell_type": "code",
      "source": [
        "def compute(a,b):\n",
        "  x=a+b\n",
        "  y=a-b\n",
        "  z=a*b\n",
        "  p=a/b\n",
        "  print(x,y,z,p)"
      ],
      "metadata": {
        "id": "6TXzhxftWm4S"
      },
      "execution_count": null,
      "outputs": []
    },
    {
      "cell_type": "code",
      "source": [
        "compute(20,5)"
      ],
      "metadata": {
        "colab": {
          "base_uri": "https://localhost:8080/"
        },
        "id": "LpaUiu4cYAkO",
        "outputId": "93f6e8f9-c8a4-4a83-ae94-d3858673bf1f"
      },
      "execution_count": null,
      "outputs": [
        {
          "output_type": "stream",
          "name": "stdout",
          "text": [
            "25 15 100 4.0\n"
          ]
        }
      ]
    },
    {
      "cell_type": "markdown",
      "source": [
        "create a function which takes name and age from the user & display the age of the person"
      ],
      "metadata": {
        "id": "nZJAMq6bYzqe"
      }
    },
    {
      "cell_type": "code",
      "source": [
        "def person(name,age):\n",
        "\n",
        "  print('Hi your age is ',age)"
      ],
      "metadata": {
        "id": "2WOAJlcVYEBz"
      },
      "execution_count": null,
      "outputs": []
    },
    {
      "cell_type": "code",
      "source": [
        "person('Rohit',24)"
      ],
      "metadata": {
        "colab": {
          "base_uri": "https://localhost:8080/"
        },
        "id": "MJxKiDYqZXby",
        "outputId": "a77698ed-d370-448a-b1b9-b75602bc9a40"
      },
      "execution_count": null,
      "outputs": [
        {
          "output_type": "stream",
          "name": "stdout",
          "text": [
            "Hi your age is  24\n"
          ]
        }
      ]
    },
    {
      "cell_type": "code",
      "source": [
        "def info(name,age):\n",
        "  print('Hi', name,'your age is',age)"
      ],
      "metadata": {
        "id": "56SaW01IZa6D"
      },
      "execution_count": null,
      "outputs": []
    },
    {
      "cell_type": "code",
      "source": [
        "info('rohit',24)"
      ],
      "metadata": {
        "colab": {
          "base_uri": "https://localhost:8080/"
        },
        "id": "bxHqd5bXacjl",
        "outputId": "05dff761-649c-46b4-f574-80a67e2c8cf1"
      },
      "execution_count": null,
      "outputs": [
        {
          "output_type": "stream",
          "name": "stdout",
          "text": [
            "Hi rohit your age is 24\n"
          ]
        }
      ]
    },
    {
      "cell_type": "markdown",
      "source": [
        "create a function which take name & salary from the user & display the name & salary of the person\n",
        "\n",
        "incase the salary is not given then take default salary as 15000"
      ],
      "metadata": {
        "id": "Ym8QlNyHbK2m"
      }
    },
    {
      "cell_type": "code",
      "source": [
        "def data(name,salary=15000): #assigned salary default value as 15000 if salary not provided by the user it will show 15000 only\n",
        "  print('Hi', name,'your cuuent salary is',salary,'per month')\n"
      ],
      "metadata": {
        "id": "EgCNqKmQafuA"
      },
      "execution_count": null,
      "outputs": []
    },
    {
      "cell_type": "code",
      "source": [
        "data(\"Rohit\")"
      ],
      "metadata": {
        "colab": {
          "base_uri": "https://localhost:8080/"
        },
        "id": "XQumedxRb9zP",
        "outputId": "a5a5bde6-bb4a-4b42-d59a-78a5254a5681"
      },
      "execution_count": null,
      "outputs": [
        {
          "output_type": "stream",
          "name": "stdout",
          "text": [
            "Hi Rohit your cuuent salary is 15000 per month\n"
          ]
        }
      ]
    },
    {
      "cell_type": "markdown",
      "source": [
        "Create a function which adds all the elements given in a list of numbers"
      ],
      "metadata": {
        "id": "8QTg-38_cvjL"
      }
    },
    {
      "cell_type": "code",
      "source": [
        "def add_list(num):\n",
        "  sum=0\n",
        "\n",
        "  for i in num:\n",
        "    sum=sum+i\n",
        "  print(sum)"
      ],
      "metadata": {
        "id": "HsdcUm2tcByY"
      },
      "execution_count": null,
      "outputs": []
    },
    {
      "cell_type": "code",
      "source": [
        "add_list([1,2,3,4,5,6])"
      ],
      "metadata": {
        "colab": {
          "base_uri": "https://localhost:8080/"
        },
        "id": "Gv1JmgRQdAtp",
        "outputId": "7d90caab-515a-42ff-9b67-171380568fbb"
      },
      "execution_count": null,
      "outputs": [
        {
          "output_type": "stream",
          "name": "stdout",
          "text": [
            "21\n"
          ]
        }
      ]
    },
    {
      "cell_type": "markdown",
      "source": [
        "Create a function which displays the largest number out of three given numbers."
      ],
      "metadata": {
        "id": "qg1C33Hjib8h"
      }
    },
    {
      "cell_type": "code",
      "source": [
        "def largest(a,b,c):\n",
        "  if a>b & a>c:\n",
        "    print(a, 'is the greatest of all')\n",
        "  elif b>c & b>a:\n",
        "    print(b, 'is the greatest of all')\n",
        "  else:\n",
        "    print(c, 'is the greatest of all')"
      ],
      "metadata": {
        "id": "Q_iteCz0dD6R"
      },
      "execution_count": null,
      "outputs": []
    },
    {
      "cell_type": "code",
      "source": [
        "largest(5,6,7)"
      ],
      "metadata": {
        "colab": {
          "base_uri": "https://localhost:8080/"
        },
        "id": "WdBj8cB1je8i",
        "outputId": "b4f2ae42-5b61-4d80-c473-8f2f964b78d1"
      },
      "execution_count": null,
      "outputs": [
        {
          "output_type": "stream",
          "name": "stdout",
          "text": [
            "7 is the greatest of all\n"
          ]
        }
      ]
    },
    {
      "cell_type": "markdown",
      "source": [
        "Create a function which computes area & circumference of the circle"
      ],
      "metadata": {
        "id": "jeB76AnRkmE1"
      }
    },
    {
      "cell_type": "code",
      "source": [
        "def circle(r,pi):\n",
        "  circle_area=pi*r*r\n",
        "  circle_circumference=2*pi*r\n",
        "  print('The area of a circle is',circle_area)\n",
        "  print('The circumfernce of a circle is',circle_circumference)"
      ],
      "metadata": {
        "id": "AAkAV6laj4GU"
      },
      "execution_count": null,
      "outputs": []
    },
    {
      "cell_type": "code",
      "source": [
        "circle(4,3.14)"
      ],
      "metadata": {
        "colab": {
          "base_uri": "https://localhost:8080/"
        },
        "id": "gzVVFgEvlvf7",
        "outputId": "b41fc9a0-ed3e-4ba1-a429-9816d96c88c9"
      },
      "execution_count": null,
      "outputs": [
        {
          "output_type": "stream",
          "name": "stdout",
          "text": [
            "The area of a circle is 50.24\n",
            "The circumfernce of a circle is 25.12\n"
          ]
        }
      ]
    },
    {
      "cell_type": "markdown",
      "source": [
        "Create a function which computed perimeter and area of a reactangle"
      ],
      "metadata": {
        "id": "Zd6vuArAmM-b"
      }
    },
    {
      "cell_type": "code",
      "source": [
        "def rect(l,b):\n",
        "  area=l*b\n",
        "  perimeter=2*(l+b)\n",
        "  print('The area of a reactangle is',area)\n",
        "  print('The perimeter of a recatangle is',perimeter)"
      ],
      "metadata": {
        "id": "FHXfqIzElye0"
      },
      "execution_count": null,
      "outputs": []
    },
    {
      "cell_type": "code",
      "source": [
        "rect(2,3)"
      ],
      "metadata": {
        "colab": {
          "base_uri": "https://localhost:8080/"
        },
        "id": "cPhoq9OGmo-N",
        "outputId": "4327e735-ae5e-4855-c6f0-4f5429b32359"
      },
      "execution_count": null,
      "outputs": [
        {
          "output_type": "stream",
          "name": "stdout",
          "text": [
            "The area of a reactangle is 6\n",
            "The perimeter of a recatangle is 10\n"
          ]
        }
      ]
    },
    {
      "cell_type": "markdown",
      "source": [
        "Create a function which displays all the even numbers given in the list of number in a new separate list"
      ],
      "metadata": {
        "id": "otEtXBAAn3ET"
      }
    },
    {
      "cell_type": "code",
      "source": [
        "def even(num):\n",
        "  l1=[]\n",
        "\n",
        "  for i in num:\n",
        "    if i%2==0:\n",
        "      l1.append(i)\n",
        "    else:\n",
        "      pass\n",
        "  print(l1)"
      ],
      "metadata": {
        "id": "dH3b3qu2mroB"
      },
      "execution_count": null,
      "outputs": []
    },
    {
      "cell_type": "code",
      "source": [
        "even([2,3,4,6,7,24,32])"
      ],
      "metadata": {
        "colab": {
          "base_uri": "https://localhost:8080/"
        },
        "id": "DzpXS2LJo84Y",
        "outputId": "89f6db9a-035e-4539-cebd-bce1be2491c0"
      },
      "execution_count": null,
      "outputs": [
        {
          "output_type": "stream",
          "name": "stdout",
          "text": [
            "[2, 4, 6, 24, 32]\n"
          ]
        }
      ]
    },
    {
      "cell_type": "markdown",
      "source": [
        "Create a function which counts the number of vowels & consonents in a given word"
      ],
      "metadata": {
        "id": "8L8TIjZhxmWR"
      }
    },
    {
      "cell_type": "code",
      "source": [
        "def count(word):\n",
        "  vowel_count=0\n",
        "  consonent_count=0\n",
        "  for i in range (len(word)): #here (len(word)) function generally count the word the provided so that it can be used for counting vowels & consonents\n",
        "\n",
        "    if word[i] in ('A','a','E','e','I','i','O','o','U','u'): #here word[i] fundtion generally doing indexing part for counting\n",
        "      vowel_count=vowel_count+1\n",
        "    else:\n",
        "      consonent_count=consonent_count+1\n",
        "  print('The number of vowels are',vowel_count)\n",
        "  print('The number of cosonents are',consonent_count)"
      ],
      "metadata": {
        "id": "NtZ5cJGZpDCY"
      },
      "execution_count": null,
      "outputs": []
    },
    {
      "cell_type": "code",
      "source": [
        "count('Umbrella')"
      ],
      "metadata": {
        "colab": {
          "base_uri": "https://localhost:8080/"
        },
        "id": "G-t43d0Dyd9t",
        "outputId": "36fe1069-976f-4d8d-b199-f302952463bb"
      },
      "execution_count": null,
      "outputs": [
        {
          "output_type": "stream",
          "name": "stdout",
          "text": [
            "The number of vowels are 3\n",
            "The number of cosonents are 5\n"
          ]
        }
      ]
    },
    {
      "cell_type": "code",
      "source": [
        "#another way for doing above one\n",
        "def count(word):\n",
        "  vowel_count=0\n",
        "  consonent_count=0\n",
        "  for i in word:\n",
        "    if i in ('A','a','E','e','I','i','O','o','U','u'):\n",
        "      vowel_count=vowel_count+1\n",
        "    else:\n",
        "      consonent_count=consonent_count+1\n",
        "  print('The number of vowels are',vowel_count)\n",
        "  print('The number of cosonents are',consonent_count)"
      ],
      "metadata": {
        "id": "J3esRMPqyo0t"
      },
      "execution_count": null,
      "outputs": []
    },
    {
      "cell_type": "code",
      "source": [
        "count('india')"
      ],
      "metadata": {
        "colab": {
          "base_uri": "https://localhost:8080/"
        },
        "id": "liWDWqfp0fdG",
        "outputId": "5fa1bc40-0239-43a7-89b6-b1f744f1e422"
      },
      "execution_count": null,
      "outputs": [
        {
          "output_type": "stream",
          "name": "stdout",
          "text": [
            "The number of vowels are 3\n",
            "The number of cosonents are 2\n"
          ]
        }
      ]
    },
    {
      "cell_type": "code",
      "source": [
        "count('United States')"
      ],
      "metadata": {
        "colab": {
          "base_uri": "https://localhost:8080/"
        },
        "id": "v6Tv5aDC0iMD",
        "outputId": "f7357565-ba46-4c6a-8752-a0af30360ffa"
      },
      "execution_count": null,
      "outputs": [
        {
          "output_type": "stream",
          "name": "stdout",
          "text": [
            "The number of vowels are 5\n",
            "The number of cosonents are 8\n"
          ]
        }
      ]
    },
    {
      "cell_type": "markdown",
      "source": [
        "Types of argument.\n",
        "1. Default argument\n",
        "2. Arbitrary argument\n",
        "3. Keyword argument\n",
        "4. Arbitrary keyword argument"
      ],
      "metadata": {
        "id": "HDSdTNr_CvMR"
      }
    },
    {
      "cell_type": "markdown",
      "source": [
        "Default argument"
      ],
      "metadata": {
        "id": "qU5neOS3DSJp"
      }
    },
    {
      "cell_type": "markdown",
      "source": [
        "Create a function which greets \"Good morning\" to the customer by using his/her name.\n",
        "Incase the name is not provided call the cx by the name \"user\""
      ],
      "metadata": {
        "id": "R3yHLu0WCEMA"
      }
    },
    {
      "cell_type": "code",
      "source": [
        "def fun(name='User'):\n",
        "  print('Good morning!',name)"
      ],
      "metadata": {
        "id": "XlXWakuH49io"
      },
      "execution_count": null,
      "outputs": []
    },
    {
      "cell_type": "code",
      "source": [
        "fun('Rohit')"
      ],
      "metadata": {
        "colab": {
          "base_uri": "https://localhost:8080/"
        },
        "id": "rRE7AxvFChSw",
        "outputId": "9344d495-7058-4859-e3dd-55b11ff72908"
      },
      "execution_count": null,
      "outputs": [
        {
          "output_type": "stream",
          "name": "stdout",
          "text": [
            "Good morning! Rohit\n"
          ]
        }
      ]
    },
    {
      "cell_type": "code",
      "source": [
        "fun()"
      ],
      "metadata": {
        "colab": {
          "base_uri": "https://localhost:8080/"
        },
        "id": "CW9xfRS9Cjcv",
        "outputId": "ff201c9c-4e2f-46b6-8aad-ef161320449c"
      },
      "execution_count": null,
      "outputs": [
        {
          "output_type": "stream",
          "name": "stdout",
          "text": [
            "Good morning! User\n"
          ]
        }
      ]
    },
    {
      "cell_type": "markdown",
      "source": [
        "Arbitrary argument\n",
        "\n",
        "1. here the no. of parameter are unknown to us\n",
        "2. in order to accept any number of parameter from the user, we use * symbol along with the name of the parameter\n",
        "3. Arbitrary arguments are also called as *args"
      ],
      "metadata": {
        "id": "AnAki4FoDOeX"
      }
    },
    {
      "cell_type": "code",
      "source": [
        "def func(*child):\n",
        "  print('Youngest child is', child[2])"
      ],
      "metadata": {
        "id": "W_LBkKGgCoS8"
      },
      "execution_count": null,
      "outputs": []
    },
    {
      "cell_type": "code",
      "source": [
        "func('Ram','Shyam','Mohan','Ravi')"
      ],
      "metadata": {
        "colab": {
          "base_uri": "https://localhost:8080/"
        },
        "id": "rGPJeLq4IM66",
        "outputId": "7940869d-3e9f-4b62-9d6a-6d430b8db959"
      },
      "execution_count": null,
      "outputs": [
        {
          "output_type": "stream",
          "name": "stdout",
          "text": [
            "Youngest child is Mohan\n"
          ]
        }
      ]
    },
    {
      "cell_type": "code",
      "source": [
        "def greet(*names):\n",
        "  for name in names:\n",
        "    print('Good morning', name)"
      ],
      "metadata": {
        "id": "3nZO0F_eIUTM"
      },
      "execution_count": null,
      "outputs": []
    },
    {
      "cell_type": "code",
      "source": [
        "greet('Ravi','Akash','Rajesh')"
      ],
      "metadata": {
        "colab": {
          "base_uri": "https://localhost:8080/"
        },
        "id": "LT87rmj6IgDL",
        "outputId": "9a000ea5-b958-4bc8-9492-714f5d2bbdc4"
      },
      "execution_count": null,
      "outputs": [
        {
          "output_type": "stream",
          "name": "stdout",
          "text": [
            "Good morning Ravi\n",
            "Good morning Akash\n",
            "Good morning Rajesh\n"
          ]
        }
      ]
    },
    {
      "cell_type": "markdown",
      "source": [
        "Keyword Arguments\n",
        "\n",
        "1. Here the no. of parameters are known to us.\n",
        "2. While calling a function we provide the input in the form of key value pair.\n",
        "3. Order of the parameters does not play a role."
      ],
      "metadata": {
        "id": "sLmsEbQtJqiN"
      }
    },
    {
      "cell_type": "code",
      "source": [
        "def func1(child3, child1, child2): #as arrangement of parameters will not play a role here.\n",
        "   print('Youngest child is', child3)"
      ],
      "metadata": {
        "id": "_YfUkQ-BIjWf"
      },
      "execution_count": null,
      "outputs": []
    },
    {
      "cell_type": "code",
      "source": [
        "func1(child1='Ram',child2='Shyam',child3='Meera') #way of entering names like this- 'child1='Ram' which is in pair this is called key value pair"
      ],
      "metadata": {
        "colab": {
          "base_uri": "https://localhost:8080/"
        },
        "id": "9PZFiQmjK84k",
        "outputId": "a1abdcc9-6443-4a89-9ad0-00ecf88fbfda"
      },
      "execution_count": null,
      "outputs": [
        {
          "output_type": "stream",
          "name": "stdout",
          "text": [
            "Youngest child is Meera\n"
          ]
        }
      ]
    },
    {
      "cell_type": "markdown",
      "source": [
        "Arbitrary keyword argument\n",
        "\n",
        "1. Here the number of parameters are unknown to us\n",
        "2. While calling a function we provide the input in the form of key value pair.\n",
        "3. We use ** sysmbol along with the name of the parameter. #Here double asteric (**) is used because, the first one will helps in taking 'n' number of parameters from the user because we don't know the exact no. of parameters. Whereas the 2nd one will helps in taking i/p in the form of key-pair value because the function is arbitrary in nature along with keyword argument.\n",
        "4. Arbitrary Keyword Argument are also called **kwargs"
      ],
      "metadata": {
        "id": "IfOvG5wCPZWx"
      }
    },
    {
      "cell_type": "code",
      "source": [
        "def func2(**names):\n",
        "  print(\"His last name is\",names['lname'])"
      ],
      "metadata": {
        "id": "xR_nqG_RLGtr"
      },
      "execution_count": null,
      "outputs": []
    },
    {
      "cell_type": "code",
      "source": [
        "func2(fname='Rohit',mname='Kumar',lname='Shah')"
      ],
      "metadata": {
        "colab": {
          "base_uri": "https://localhost:8080/"
        },
        "id": "bxHLfUnbUuCF",
        "outputId": "b1f92fae-be7f-453f-dbf8-0d4bcacc45c4"
      },
      "execution_count": null,
      "outputs": [
        {
          "output_type": "stream",
          "name": "stdout",
          "text": [
            "His last name is Shah\n"
          ]
        }
      ]
    },
    {
      "cell_type": "code",
      "source": [
        "func2(fname='Kunal',lname='None')"
      ],
      "metadata": {
        "colab": {
          "base_uri": "https://localhost:8080/"
        },
        "id": "1IyY9PRCU2cw",
        "outputId": "4d3f6c47-593f-427b-a138-adb1d6450ed8"
      },
      "execution_count": null,
      "outputs": [
        {
          "output_type": "stream",
          "name": "stdout",
          "text": [
            "His last name is None\n"
          ]
        }
      ]
    },
    {
      "cell_type": "markdown",
      "source": [
        "Recursion"
      ],
      "metadata": {
        "id": "ZI18mRcYVc2A"
      }
    },
    {
      "cell_type": "markdown",
      "source": [
        "Create a function which calculates the factorial of the number"
      ],
      "metadata": {
        "id": "7lJyWSNcGpOB"
      }
    },
    {
      "cell_type": "code",
      "source": [
        "def fact(n):\n",
        "  fact=1\n",
        "\n",
        "  for i in range(1,n+1):\n",
        "    fact=fact*i\n",
        "  print(fact)"
      ],
      "metadata": {
        "id": "OzqRaGfCVD8T"
      },
      "execution_count": null,
      "outputs": []
    },
    {
      "cell_type": "code",
      "source": [
        "fact(5)"
      ],
      "metadata": {
        "colab": {
          "base_uri": "https://localhost:8080/"
        },
        "id": "SAkDRLfiHAUK",
        "outputId": "20a7b0cf-252d-4f0d-ee3e-d5fca0ce6195"
      },
      "execution_count": null,
      "outputs": [
        {
          "output_type": "stream",
          "name": "stdout",
          "text": [
            "120\n"
          ]
        }
      ]
    },
    {
      "cell_type": "code",
      "source": [
        "fact(0)"
      ],
      "metadata": {
        "colab": {
          "base_uri": "https://localhost:8080/"
        },
        "id": "ROTkunFwHD2F",
        "outputId": "8162aa43-a645-434b-cfdd-b493ff1de431"
      },
      "execution_count": null,
      "outputs": [
        {
          "output_type": "stream",
          "name": "stdout",
          "text": [
            "1\n"
          ]
        }
      ]
    },
    {
      "cell_type": "code",
      "source": [
        "fact(1)"
      ],
      "metadata": {
        "colab": {
          "base_uri": "https://localhost:8080/"
        },
        "id": "QFLg99XWHMg1",
        "outputId": "c59753fd-605a-47b9-b513-c8eb87d6710d"
      },
      "execution_count": null,
      "outputs": [
        {
          "output_type": "stream",
          "name": "stdout",
          "text": [
            "1\n"
          ]
        }
      ]
    },
    {
      "cell_type": "code",
      "source": [
        "fact(17)"
      ],
      "metadata": {
        "id": "m1uIlIRwHQC6",
        "colab": {
          "base_uri": "https://localhost:8080/"
        },
        "outputId": "0f0c84c9-2bdc-499c-ae34-82665302a882"
      },
      "execution_count": null,
      "outputs": [
        {
          "output_type": "stream",
          "name": "stdout",
          "text": [
            "355687428096000\n"
          ]
        }
      ]
    },
    {
      "cell_type": "code",
      "source": [
        "fact(10)"
      ],
      "metadata": {
        "id": "DbvBKMk4B5mO",
        "outputId": "653b0297-0a3d-4c71-dfa6-2f3619760bdd",
        "colab": {
          "base_uri": "https://localhost:8080/"
        }
      },
      "execution_count": null,
      "outputs": [
        {
          "output_type": "stream",
          "name": "stdout",
          "text": [
            "3628800\n"
          ]
        }
      ]
    },
    {
      "cell_type": "code",
      "source": [],
      "metadata": {
        "id": "70MW7wckB9Uu"
      },
      "execution_count": null,
      "outputs": []
    }
  ]
}